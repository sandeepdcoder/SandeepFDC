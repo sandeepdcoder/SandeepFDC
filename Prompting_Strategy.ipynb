{
  "cells": [
    {
      "cell_type": "markdown",
      "metadata": {
        "id": "view-in-github",
        "colab_type": "text"
      },
      "source": [
        "<a href=\"https://colab.research.google.com/github/sandeepdcoder/SandeepFDC/blob/main/Prompting_Strategy.ipynb\" target=\"_parent\"><img src=\"https://colab.research.google.com/assets/colab-badge.svg\" alt=\"Open In Colab\"/></a>"
      ]
    },
    {
      "cell_type": "markdown",
      "metadata": {
        "id": "ub0NTGA6uYuV"
      },
      "source": [
        "## Setup"
      ]
    },
    {
      "cell_type": "code",
      "execution_count": 1,
      "metadata": {
        "id": "55xgFPWJubs3"
      },
      "outputs": [],
      "source": [
        "# Setup the OpenAI client and create the sample review\n",
        "\n",
        "import os\n",
        "from openai import OpenAI\n",
        "from google.colab import userdata\n",
        "\n",
        "# Make sure you have set the OPENAI_API_KEY environment variable\n",
        "# For Colab, you can use the \"🔑\" icon on the left panel to add your API key as a secret.\n",
        "# Name the secret OPENAI_API_KEY.\n",
        "# If you are running this outside of Colab, you can set it as an environment variable\n",
        "# in your terminal: export OPENAI_API_KEY='your-api-key'\n",
        "# Or you can uncomment the line below and replace 'your-api-key' with your actual key:\n",
        "# os.environ['OPENAI_API_KEY'] = 'your-api-key'\n",
        "\n",
        "client = OpenAI(\n",
        "    # This is the default and can be omitted\n",
        "    base_url=\"https://openrouter.ai/api/v1\",\n",
        "    api_key= userdata.get('API_KEY'),\n",
        ")\n",
        "\n",
        "model = \"openai/gpt-4o-mini\" #\"gpt-4.1-mini-2025-04-14\"\n",
        "\n",
        "def generate_response(prompt, model=model, max_tokens=150):\n",
        "    \"\"\"\n",
        "    Generates a response from the OpenAI API.\n",
        "\n",
        "    Args:\n",
        "        prompt: The input prompt for the model.\n",
        "        model: The OpenAI model to use (default: \"gpt-3.5-turbo\").\n",
        "        max_tokens: The maximum number of tokens in the generated response.\n",
        "\n",
        "    Returns:\n",
        "        The text of the generated response.\n",
        "    \"\"\"\n",
        "    try:\n",
        "        response = client.chat.completions.create(\n",
        "            model=model,\n",
        "            messages=[\n",
        "                {\"role\": \"user\", \"content\": prompt}\n",
        "            ],\n",
        "            temperature=0.7,\n",
        "            max_tokens=5000 # You can adjust the temperature\n",
        "        )\n",
        "        return response.choices[0].message.content.strip()\n",
        "    except Exception as e:\n",
        "        return f\"Error generating response: {e}\"\n",
        "\n",
        "\n",
        "\n",
        "# Product Reviews for Examples - Vacuum Cleaner Reviews with Mixed Emotions\n",
        "REVIEWS = [\n",
        "    # Enthusiastic positive reviews\n",
        "    \"This vacuum cleaner is absolutely AMAZING! 🎉 I'm so thrilled with my purchase! It's incredibly lightweight, super powerful, and the battery lasts forever. I cleaned my entire 3-bedroom house on a single charge and still had juice left! The attachments are genius - they make reaching tight spaces a breeze. My floors have never been cleaner. I'm telling all my friends about this! HIGHLY RECOMMENDED!\",\n",
        "\n",
        "    \"I'm genuinely impressed with this vacuum cleaner. After years of struggling with heavy, clunky vacuums, this one is a breath of fresh air. It's so easy to use and maneuver around furniture. The suction power is incredible - it picked up pet hair that my old vacuum couldn't even touch. The battery life is impressive too. Worth every penny!\",\n",
        "\n",
        "    \"OMG, this vacuum is a game-changer! 😍 I was skeptical at first, but wow, it exceeded all my expectations. It's so quiet compared to my old one, and the cordless design is liberating. I can finally vacuum without tripping over cords! The attachments are perfect for my car and stairs. I'm in love with this product!\",\n",
        "\n",
        "    # Frustrated negative reviews\n",
        "    \"I'm extremely frustrated with this vacuum cleaner. It's a complete waste of money! The battery dies after just 10 minutes of use - I can't even finish one room! It's also incredibly heavy and awkward to maneuver. The suction is pathetic and it struggles with basic dirt. I'm returning this immediately. Terrible product!\",\n",
        "\n",
        "    \"This vacuum cleaner is a huge disappointment. I had such high hopes based on the reviews, but it's been nothing but trouble. The attachments keep falling off, the battery life is terrible, and it's so loud it scares my pets. I'm really upset about this purchase. Would not recommend to anyone.\",\n",
        "\n",
        "    \"I'm absolutely furious about this vacuum! It's been nothing but problems since day one. The motor makes a horrible grinding noise, the dustbin is tiny and fills up immediately, and the battery is completely unreliable. I feel completely ripped off. This is the worst vacuum I've ever owned!\",\n",
        "\n",
        "    # Analytical neutral reviews\n",
        "    \"This vacuum cleaner has both good and bad points. On the positive side, it's relatively lightweight and the attachments work well for corners. However, the battery life is average - it lasts about 30 minutes, which is enough for a small apartment but not a large house. The suction power is decent for daily cleaning but struggles with deep-pile carpets. It's an okay product for the price, but there might be better options available.\",\n",
        "\n",
        "    \"I have mixed feelings about this vacuum. It does what it's supposed to do, but I'm not blown away. The design is nice and it's easy to store, but the battery life could be better. It works fine for quick cleanups but struggles with heavy-duty cleaning. I'm not sure if I'd buy it again, but it's not terrible either.\",\n",
        "\n",
        "    \"This vacuum is... fine. It gets the job done but nothing more. The build quality seems decent, and it's reasonably priced. However, I've noticed it's not as powerful as I expected, and the dustbin fills up quickly. It's an average product - not great, not terrible. I'll probably keep it since it works, but I'm not excited about it.\",\n",
        "\n",
        "    # Emotional reviews (nostalgic, hopeful, regretful)\n",
        "    \"This vacuum reminds me of the one my grandmother used to have - simple, reliable, and effective. It's not fancy, but it does exactly what you need it to do. I appreciate the straightforward design and the fact that it doesn't have unnecessary bells and whistles. Sometimes the old ways are the best ways.\",\n",
        "\n",
        "    \"I'm hopeful this vacuum will work out better than my last one. So far, it seems to be doing okay, but I'm still in the trial period. The battery life seems decent, and it's definitely lighter than what I had before. Fingers crossed it holds up over time!\",\n",
        "\n",
        "    \"I really regret buying this vacuum cleaner. I should have done more research before purchasing. It's not terrible, but it's definitely not worth the price I paid. I wish I had gone with a different brand or model. Live and learn, I guess.\",\n",
        "\n",
        "    # Technical reviews\n",
        "    \"As someone who's used many vacuums professionally, this one is quite impressive from a technical standpoint. The motor is well-designed and efficient, the filtration system is excellent, and the ergonomics are well thought out. However, the battery management system could be improved, and the noise level is higher than expected. Overall, it's a solid performer with room for improvement.\",\n",
        "\n",
        "    \"I've been testing this vacuum for a month now, and I have to say, it's exceeded my expectations in most areas. The suction power is consistent, the battery life is reliable, and the build quality feels premium. The only issue I've encountered is that the dustbin can be tricky to empty sometimes. But overall, I'm very satisfied with this purchase.\",\n",
        "\n",
        "    # Short and concise reviews\n",
        "    \"Love it! Best vacuum I've ever owned.\",\n",
        "\n",
        "    \"Waste of money. Don't buy this.\",\n",
        "\n",
        "    \"It's okay, nothing special.\",\n",
        "\n",
        "    # Detailed experience reviews\n",
        "    \"After using this vacuum for 6 months, I can confidently say it's been a mixed experience. The initial excitement wore off when I realized the battery life wasn't as advertised. However, the suction power is genuinely impressive, and it handles pet hair better than any vacuum I've used. The attachments are well-designed, though the dustbin could be larger. Overall, it's a good product with some limitations.\",\n",
        "\n",
        "    \"I bought this vacuum during a Black Friday sale and honestly, I'm not sure if it was worth it even at the discounted price. The first month was great - it worked perfectly and I was happy with my purchase. But then the battery started degrading quickly, and now it barely lasts 15 minutes. Customer service was unhelpful too. I'm disappointed but I'll make it work until I can afford a replacement.\"\n",
        "]\n",
        "\n",
        "\n",
        "# For consistency with existing examples\n",
        "REVIEWS_TEXT = \"\\n\\n\".join([f\"Review {i+1}:\\n{review}\" for i, review in enumerate(REVIEWS)])"
      ]
    },
    {
      "cell_type": "markdown",
      "metadata": {
        "id": "sn-VzZwPH6_-"
      },
      "source": [
        "## Zero-Shot Prompting\n"
      ]
    },
    {
      "cell_type": "code",
      "execution_count": 2,
      "metadata": {
        "id": "73b82b63",
        "colab": {
          "base_uri": "https://localhost:8080/"
        },
        "outputId": "cbc0a110-3401-4f44-9e62-665cefeea9df"
      },
      "outputs": [
        {
          "output_type": "stream",
          "name": "stdout",
          "text": [
            "Zero-Shot Response :\n",
            "The reviews for the vacuum cleaner present a wide range of opinions, highlighting a mix of positive and negative experiences. \n",
            "\n",
            "**Positive Feedback:**\n",
            "Several reviewers express strong enthusiasm and satisfaction with the vacuum’s lightweight design, powerful suction, and impressive battery life. Many appreciate the effectiveness of the attachments, which make cleaning easier, especially in tight spaces and on various surfaces. Some users describe it as a game-changer, mentioning how it outperforms their previous vacuums and even recommend it to friends.\n",
            "\n",
            "**Negative Feedback:**\n",
            "Conversely, multiple reviews convey frustration and disappointment, citing issues such as poor battery life, awkward maneuverability, and inadequate suction power. Some users report that the vacuum failed to meet their expectations, with specific complaints about the attachments falling off and the vacuum being too loud. A few reviewers express regret over their purchase, feeling ripped off and dissatisfied with the product's overall performance.\n",
            "\n",
            "**Mixed Reviews:**\n",
            "A number of reviewers have mixed feelings, noting that while the vacuum performs adequately for light cleaning, it struggles with heavy-duty tasks. They appreciate certain features but highlight limitations like average battery life and the need for better design in aspects like the dustbin size.\n",
            "\n",
            "**Recommendation:**\n",
            "Overall, while some users enthusiastically recommend the vacuum as a great purchase, others strongly advise against it. The consensus is that the vacuum may be suitable for light cleaning and smaller spaces but may not meet the needs of users requiring more robust performance.\n",
            "--------------------------------------------------\n"
          ]
        }
      ],
      "source": [
        "# Real-world example: Summarize product reviews with zero-shot prompting.\n",
        "def test_zero_shot(review):\n",
        "    prompt = f\"\"\"\n",
        "Summarize the following product review:\n",
        "\n",
        "Review: {review}\n",
        "\n",
        "Ensure it covers emotions, quality, whether to recomend.\n",
        "\"\"\"\n",
        "    response = generate_response(prompt)\n",
        "    print(f\"Zero-Shot Response :\")\n",
        "    print(response)\n",
        "    print(\"-\" * 50)\n",
        "\n",
        "test_zero_shot(REVIEWS_TEXT)"
      ]
    },
    {
      "cell_type": "markdown",
      "metadata": {
        "id": "f1395a52"
      },
      "source": [
        "## Few-Shot Prompting"
      ]
    },
    {
      "cell_type": "code",
      "execution_count": 3,
      "metadata": {
        "id": "810fc3ef",
        "colab": {
          "base_uri": "https://localhost:8080/"
        },
        "outputId": "69a709be-bfcc-4e1c-aaa4-c9b4998a0e24"
      },
      "outputs": [
        {
          "output_type": "stream",
          "name": "stdout",
          "text": [
            "Few-Shot Response:\n",
            "The vacuum cleaner reviews present a mix of experiences. \n",
            "\n",
            "**Positive Aspects:**\n",
            "- Many users praise its lightweight design, powerful suction, and effective attachments for hard-to-reach areas.\n",
            "- Some reviewers highlight long battery life and satisfactory performance for pet hair.\n",
            "- A few users express overall satisfaction, with one calling it the best vacuum they've ever owned.\n",
            "\n",
            "**Negative Aspects:**\n",
            "- Several reviewers report poor battery performance, with some stating it lasts only a few minutes.\n",
            "- Complaints about heavy weight, awkward maneuverability, and inadequate suction for deep cleaning are common.\n",
            "- Issues with attachments falling off, high noise levels, and small dustbins also appear frequently.\n",
            "- A number of users express regret over their purchase and disappointment with customer service.\n",
            "\n",
            "Overall, while some find the vacuum effective and enjoyable, many others experience significant issues, leading to a mixed reception.\n",
            "--------------------------------------------------\n"
          ]
        }
      ],
      "source": [
        "# Real-world example: Summarize product reviews with few-shot examples.\n",
        "def test_few_shot(review):\n",
        "    few_shot_prompt = f\"\"\"\n",
        "Summarize the following product reviews:\n",
        "\n",
        "Review: This phone is terrible. The battery dies in an hour and the camera is blurry.\n",
        "Summary: Poor battery life and camera quality.\n",
        "\n",
        "Review: I love this laptop! It's fast, lightweight, and the screen is stunning.\n",
        "Summary: Fast, lightweight, and excellent display.\n",
        "\n",
        "Review: {review}\n",
        "Summary:\n",
        "\"\"\"\n",
        "    response = generate_response(few_shot_prompt)\n",
        "    print(f\"Few-Shot Response:\")\n",
        "    print(response)\n",
        "    print(\"-\" * 50)\n",
        "\n",
        "# Test with all three review types\n",
        "test_few_shot(REVIEWS_TEXT)"
      ]
    },
    {
      "cell_type": "markdown",
      "metadata": {
        "id": "tYqFe1-ptNT5"
      },
      "source": [
        "## Self Reflexion"
      ]
    },
    {
      "cell_type": "markdown",
      "source": [
        "#### How it works:\n",
        "1. Generates the Initial summary\n",
        "2. Performs the self review\n",
        "3. Using the self review feedback, it refines the generated summary by addressing feedback."
      ],
      "metadata": {
        "id": "vFiJg47rzQwC"
      }
    },
    {
      "cell_type": "code",
      "source": [
        "# Real-world example: Summarize a product review using Reflexion (using positive review for complexity).\n",
        "\n",
        "# Initial prompt\n",
        "initial_review_prompt = f\"Summarize the following product review:\\n\\n{REVIEWS_TEXT}\"\n",
        "\n",
        "initial_review_response = generate_response(initial_review_prompt)\n",
        "print(\"Initial Reflexion Response:\")\n",
        "print(initial_review_response)\n",
        "\n",
        "# Reflection prompt to improve the summary\n",
        "reflection_review_prompt = f\"\"\"\n",
        "Based on the following product review and the initial summary:\n",
        "\n",
        "Review: {REVIEWS_TEXT}\n",
        "\n",
        "Initial Summary: {initial_review_response}\n",
        "\n",
        "Critique the initial summary. Does it capture all the key positive aspects mentioned in the review (lightweight, powerful, long battery life, useful attachments, highly recommended)? Suggest improvements to make the summary more comprehensive and accurate.\n",
        "\"\"\"\n",
        "\n",
        "reflection_on_review = generate_response(reflection_review_prompt)\n",
        "print(\"\\nReflection on Initial Response:\")\n",
        "print(reflection_on_review)\n",
        "\n",
        "# Refined prompt incorporating the reflection\n",
        "refined_review_prompt = f\"\"\"\n",
        "Based on the following product review and the critique of the initial summary, provide a refined and comprehensive summary:\n",
        "\n",
        "Review: {REVIEWS_TEXT}\n",
        "\n",
        "Critique: {reflection_on_review}\n",
        "\n",
        "Refined Summary:\n",
        "\"\"\"\n",
        "\n",
        "refined_review_response = generate_response(refined_review_prompt)\n",
        "print(\"\\nRefined Reflexion Response:\")\n",
        "print(refined_review_response)"
      ],
      "metadata": {
        "id": "l_Ba589oSQmE",
        "colab": {
          "base_uri": "https://localhost:8080/"
        },
        "outputId": "ce137c22-aec7-43d2-dd60-e42bcd49ee88"
      },
      "execution_count": 4,
      "outputs": [
        {
          "output_type": "stream",
          "name": "stdout",
          "text": [
            "Initial Reflexion Response:\n",
            "The reviews for the vacuum cleaner present a mix of enthusiastic praise and significant disappointment. Many users highlight its lightweight design, powerful suction, impressive battery life, and effective attachments for cleaning various surfaces, particularly in homes with pets. Positive reviewers describe it as a game-changer and highly recommend it to others.\n",
            "\n",
            "Conversely, several users express frustration with the vacuum's poor battery performance, heavy weight, and ineffective suction, particularly on deeper carpets. Complaints about attachments falling off, noise levels, and customer service experiences are also noted. Some reviews reflect a sense of regret over the purchase, suggesting that while the vacuum has potential, it may not meet expectations for everyone. Overall, the feedback is polarized, with some considering it a great buy and others deeming it a waste of money.\n",
            "\n",
            "Reflection on Initial Response:\n",
            "The initial summary does a reasonable job of capturing the general sentiment and key themes from the reviews, but it could be improved for clarity and comprehensiveness. Here are some critiques and suggestions for improvement:\n",
            "\n",
            "### Critique:\n",
            "1. **Positive Aspects**: While the summary mentions the vacuum's lightweight design, powerful suction, impressive battery life, and effective attachments, it does not specify that many reviewers were particularly enthusiastic about how the vacuum excels in cleaning pet hair. This is a significant point, especially for potential buyers who have pets.\n",
            "\n",
            "2. **Negative Aspects**: The summary briefly mentions frustration with battery performance and suction, but it could benefit from elaborating on the specific complaints regarding the battery life, weight, and the effectiveness of the vacuum on deeper carpets. It also does not address the issues with customer service and the dustbin size that some users noted.\n",
            "\n",
            "3. **Polarization**: The summary states that feedback is polarized, but it could be more explicit about the number of positive versus negative reviews to provide a clearer picture of overall sentiment.\n",
            "\n",
            "4. **Tone**: The tone of the summary is somewhat neutral and could benefit from a more engaging and vivid description that reflects the strong emotions expressed in some reviews—both positive and negative.\n",
            "\n",
            "### Suggested Improvements:\n",
            "To make the summary more comprehensive and accurate, consider the following revision:\n",
            "\n",
            "---\n",
            "\n",
            "The reviews for the vacuum cleaner reveal a polarized response from users, showcasing a blend of enthusiastic praise and significant disappointment. On the positive side, many users emphasize the vacuum's **lightweight design**, **powerful suction**, and **impressive battery life**, with several reviewers noting that it effectively handles pet hair, which is a major advantage for pet owners. The **attachments are frequently highlighted as particularly useful**, making it easier to clean tight spaces and various surfaces, and many users describe their experiences as transformative, dubbing the vacuum a \"game-changer\" and highly recommending it to friends and family.\n",
            "\n",
            "Conversely, a notable number of reviewers express frustration with the vacuum's **poor battery performance**, with some reporting that the battery lasts only a short time, making it difficult to complete cleaning tasks. Complaints about the vacuum's **weight**, **ineffective suction on deep-pile carpets**, and issues with **attachments falling off** are common. Additionally, several users mention dissatisfaction with **customer service** and the small dustbin size. A sense of regret about the purchase is also present in some reviews, indicating that while the vacuum has potential, it may not meet the expectations of all users. Overall, the feedback highlights a significant divide, with a notable segment of users considering it an excellent buy, while others deem it a regrettable investment.\n",
            "\n",
            "--- \n",
            "\n",
            "This revision provides a more balanced view of both the positive and negative feedback, incorporates key details about user experiences, and enhances the overall tone of the summary.\n",
            "\n",
            "Refined Reflexion Response:\n",
            "The reviews for the vacuum cleaner reflect a polarized sentiment among users, with a mix of enthusiastic praise and significant disappointment. \n",
            "\n",
            "On the positive side, many users are impressed by the vacuum's **lightweight design**, **powerful suction**, and **excellent battery life**. Several reviewers highlight its effectiveness in picking up pet hair, making it a popular choice for pet owners. The **attachments are frequently praised** for their utility in reaching tight spaces and cleaning various surfaces, with many describing their experiences as transformative and dubbing the vacuum a \"game-changer.\" Users often recommend the product to friends and family, emphasizing their overall satisfaction.\n",
            "\n",
            "Conversely, a substantial portion of reviewers express frustration with the vacuum's **poor battery performance**, with reports of the battery lasting only short periods, which hampers the ability to complete cleaning tasks. Complaints also arise regarding the vacuum's **weight**, **underwhelming suction on deeper carpets**, and issues with **attachments falling off** during use. Additionally, several users mention dissatisfaction with **customer service** and the small size of the dustbin, which fills up quickly. There is a palpable sense of regret among some buyers, indicating that while the vacuum has notable strengths, it may not fully meet the expectations of all users. \n",
            "\n",
            "Overall, the feedback underscores a significant divide: while a considerable number of users regard it as an excellent investment, others view it as a regrettable purchase. This comprehensive summary captures the key themes and sentiments expressed in the reviews, providing potential buyers with a clearer understanding of the product's strengths and weaknesses.\n"
          ]
        }
      ]
    },
    {
      "cell_type": "code",
      "execution_count": 5,
      "metadata": {
        "id": "MdQvV1OptXGe",
        "colab": {
          "base_uri": "https://localhost:8080/"
        },
        "outputId": "38312341-2d28-4797-cf8b-3dd46d7c83da"
      },
      "outputs": [
        {
          "output_type": "stream",
          "name": "stdout",
          "text": [
            "Self Reflexion Response (Single Prompt):\n",
            "### INITIAL SUMMARY:\n",
            "The vacuum cleaner has received mixed reviews from users. Many praise its lightweight design, powerful suction, and long battery life, with some even calling it a \"game-changer.\" Users appreciate its ability to handle pet hair and navigate tight spaces with ease. However, several reviews express frustration over poor battery performance, heavy design, and inadequate suction power. Some users feel misled by optimistic reviews and regret their purchases. Overall, while some consider it highly effective and recommend it enthusiastically, others warn against it, citing significant drawbacks and a lack of reliability.\n",
            "\n",
            "### SELF-CRITIQUE:\n",
            "- **Important Features**: The summary captures the general sentiment about lightweight design, suction power, and battery life, but may lack emphasis on specific issues like noise levels and dustbin capacity.\n",
            "- **Emotional Tone**: The emotional tone is somewhat preserved, but it could better reflect the contrasting experiences between satisfied users and those who are disappointed.\n",
            "- **Specific Details**: While the summary includes general observations, it could benefit from more specific examples or quotes from the reviews to illustrate the points made.\n",
            "- **Recommendation Clarity**: The summary indicates a divide in user opinions but could clarify the overall recommendation more directly.\n",
            "- **Improvements**: I could enhance the summary by balancing the positive and negative sentiments more effectively, incorporating specific user experiences, and providing a clearer conclusion regarding overall product satisfaction.\n",
            "\n",
            "### REFINED SUMMARY:\n",
            "The vacuum cleaner has garnered a wide range of reactions from users. On one hand, many are thrilled with its lightweight design, powerful suction, and impressive battery life, with one user exclaiming it to be a \"game-changer\" for handling pet hair and tricky spaces. Conversely, numerous reviews highlight severe issues, including rapid battery depletion, poor suction performance, and heavy design, with some users feeling frustrated and regretting their purchases. The emotional responses vary greatly, from ecstatic endorsements to strong warnings against buying it. While it may suit some for light cleaning tasks, others strongly advise potential buyers to consider alternative options due to its reliability issues and inconsistent performance.\n",
            "==================================================\n"
          ]
        }
      ],
      "source": [
        "# Review + Reflexion in a single prompt\n",
        "review_to_analyze = REVIEWS_TEXT\n",
        "\n",
        "reflexion_prompt = f\"\"\"\n",
        "Summarize the following product review using a self-reflexion approach:\n",
        "\n",
        "Review: {review_to_analyze}\n",
        "\n",
        "Please follow these steps in your response:\n",
        "\n",
        "1. INITIAL SUMMARY: First, write a draft summary of the review.\n",
        "\n",
        "2. SELF-CRITIQUE: Then, critique your own summary. Consider:\n",
        "   - Are all important features mentioned?\n",
        "   - Is the emotional tone preserved?\n",
        "   - Are specific details included?\n",
        "   - Is the recommendation clear?\n",
        "   - What could be improved?\n",
        "\n",
        "3. REFINED SUMMARY: Finally, provide an improved summary that addresses the issues identified in your critique.\n",
        "\n",
        "Format your response with clear labels for each section.\n",
        "\"\"\"\n",
        "\n",
        "reflexion_response = generate_response(reflexion_prompt, max_tokens=400)\n",
        "print(\"Self Reflexion Response (Single Prompt):\")\n",
        "print(reflexion_response)\n",
        "print(\"=\" * 50)"
      ]
    },
    {
      "cell_type": "code",
      "source": [],
      "metadata": {
        "id": "6-j11eINuElg"
      },
      "execution_count": null,
      "outputs": []
    },
    {
      "cell_type": "markdown",
      "metadata": {
        "id": "e2f0ded4"
      },
      "source": [
        "## Chain of Thought Prompting"
      ]
    },
    {
      "cell_type": "markdown",
      "source": [
        "#### How it works\n",
        "1. It breakdonwn problem into small squential steps\n",
        "2. Process each step one by one\n",
        "3. This manual slowdown process increase the quality of result being generated as the model improves it reasoning in each step."
      ],
      "metadata": {
        "id": "sRn7kcYMzuv3"
      }
    },
    {
      "cell_type": "code",
      "execution_count": 6,
      "metadata": {
        "id": "rsM6s_jfsduO",
        "colab": {
          "base_uri": "https://localhost:8080/"
        },
        "outputId": "d4300bec-8b2e-43e4-c511-c2507193272a"
      },
      "outputs": [
        {
          "output_type": "stream",
          "name": "stdout",
          "text": [
            "Chain of Thought Response:\n",
            "To summarize the product reviews effectively, I will follow a structured approach to identify key themes, sentiments, and specific points mentioned across the reviews. Here's how I will proceed step-by-step:\n",
            "\n",
            "1. **Identify Positive Reviews**: \n",
            "   - Reviews 1, 2, 3, 14, and 15 express strong satisfaction with the vacuum cleaner. Key points include:\n",
            "     - Lightweight and easy to maneuver.\n",
            "     - Powerful suction, especially for pet hair.\n",
            "     - Long battery life, allowing for extended use.\n",
            "     - Effective attachments for hard-to-reach areas.\n",
            "     - General excitement and recommendation to others.\n",
            "\n",
            "2. **Identify Negative Reviews**:\n",
            "   - Reviews 4, 5, 6, 16, and 19 showcase significant dissatisfaction. Key issues raised include:\n",
            "     - Poor battery life, with some reviewers noting it lasts only a few minutes.\n",
            "     - Heavy or awkward design, making it difficult to use.\n",
            "     - Ineffective suction power, especially on dirt and pet hair.\n",
            "     - Problems with attachments and noise levels.\n",
            "     - Overall disappointment and regret about the purchase.\n",
            "\n",
            "3. **Mixed Reviews**:\n",
            "   - Reviews 7, 8, 9, 11, 12, 13, and 18 present a mix of positive and negative aspects. Key points include:\n",
            "     - Some users acknowledge the vacuum meets basic needs but doesn't excel.\n",
            "     - Praise for design and storage, but criticisms about battery life and suction power.\n",
            "     - Some users have experienced reliability issues over time.\n",
            "\n",
            "4. **Analyze Frequent Themes**:\n",
            "   - **Battery Life**: A recurring theme is the battery life, with several reviews indicating it is not as durable as expected.\n",
            "   - **Suction Power**: Many positive reviews highlight excellent suction, while negative reviews indicate struggles with basic cleaning.\n",
            "   - **Weight and Maneuverability**: Positive remarks on lightweight design contrast with complaints about heaviness and awkward handling.\n",
            "   - **Attachments**: Generally, attachments are appreciated for their functionality, although some users experienced issues.\n",
            "\n",
            "5. **Sentiment Analysis**:\n",
            "   - The overall sentiment is mixed. While there are enthusiastic endorsements, there are also strong criticisms about performance, especially regarding battery life and suction power.\n",
            "\n",
            "6. **Draft Final Summary**:\n",
            "   - The vacuum cleaner has garnered mixed reviews from users. Many praise its lightweight design, powerful suction, and effective attachments, making it suitable for cleaning homes, especially with pet hair. However, numerous users express frustration over poor battery life, heaviness, and inadequate suction performance. While some found it to be a solid value and recommend it, others strongly advise against purchasing due to significant reliability issues.\n",
            "\n",
            "**Final Summary**:\n",
            "The vacuum cleaner has received a mix of enthusiastic praise and significant complaints. Positive reviews highlight its lightweight design, powerful suction—especially for pet hair—and effective attachments. However, negative feedback points to poor battery life, awkward maneuverability, and inadequate suction for basic cleaning tasks. Overall, potential buyers should weigh the product's strengths against its reliability concerns.\n"
          ]
        }
      ],
      "source": [
        "# Real-world example: Summarize a product review using Chain of Thought (using neutral review for balanced reasoning).\n",
        "\n",
        "chain_of_thought_prompt = f\"\"\"\n",
        "Summarize the following product review, thinking step by step:\n",
        "\n",
        "Review: {REVIEWS_TEXT}\n",
        "\n",
        "Final Summary of Review:\n",
        "\n",
        "Note: Write down your thought process as you progress step-by-step.\n",
        "\"\"\"\n",
        "\n",
        "chain_of_thought_response = generate_response(chain_of_thought_prompt, max_tokens=300) # Increased max_tokens for detailed steps\n",
        "print(\"Chain of Thought Response:\")\n",
        "print(chain_of_thought_response)"
      ]
    },
    {
      "cell_type": "markdown",
      "metadata": {
        "id": "7d706558"
      },
      "source": [
        "## Tree of Thoughts Prompting"
      ]
    },
    {
      "cell_type": "markdown",
      "source": [
        "#### How it works\n",
        "1. It breakdown problem into multipl intermediate thoughts.\n",
        "2. Each thoughts then processed indepentantly which intern produce muliple thoughts, This cycle continous until the optimal reasoning path is identified."
      ],
      "metadata": {
        "id": "lJUnVBA51MX0"
      }
    },
    {
      "cell_type": "code",
      "execution_count": 7,
      "metadata": {
        "id": "784d307c",
        "colab": {
          "base_uri": "https://localhost:8080/"
        },
        "outputId": "19f31b81-ccb7-4a90-b3ea-2bf53bc21e55"
      },
      "outputs": [
        {
          "output_type": "stream",
          "name": "stdout",
          "text": [
            "Initial Thought: When summarizing a product review, it's important to focus on the key aspects that potential buyers care about, such as the product's features, performance, pros and cons, and overall satisfaction. Highlighting specific user experiences and any standout points can give a clear and concise overview that helps others make informed decisions without overwhelming them with unnecessary details.\n",
            "\n",
            "Thoughts after step 1:\n",
            "  Thought 1: When summarizing a product review, there are several alternative approaches that can enhance clarity and engagement for potential buyers. Here are some expanded ideas to consider:\n",
            "  Thought 2: 1. **Thematic Breakdown**: Instead of a general summary, categorize the review into specific themes such as \"Design,\" \"Usability,\" \"Value for Money,\" and \"Customer Support.\" This structured approach allows readers to quickly navigate to the aspects that matter most to them.\n",
            "  Thought 3: 2. **Star Rating System**: Introduce a star rating system alongside the summary. For each key aspect (e.g., performance, durability, ease of use), assign a rating. This visual representation can help potential buyers quickly gauge the product's strengths and weaknesses at a glance.\n",
            "  Thought 4: 3. **Visual Summaries**: Utilize infographics or charts to represent the key points of the review visually. This could include bar graphs comparing features, pie charts showing user satisfaction levels, or icons representing pros and cons. Visuals can make the information more digestible and appealing.\n",
            "  Thought 5: 4. **User Testimonials**: Incorporate brief quotes or snippets from actual users that highlight their experiences. This approach adds authenticity and can resonate with potential buyers, making the summary feel more relatable and less like a sales pitch.\n",
            "  Thought 6: 5. **Scenario-Based Summaries**: Frame the summary around different user scenarios (e.g., \"Best for Students,\" \"Ideal for Professionals,\" \"Great for Families\"). By contextualizing the review for specific audiences, potential buyers can better understand how the product fits their needs.\n",
            "  Thought 7: 6. **Comparison with Alternatives**: Provide a brief comparison with similar products in the market. This could be a simple list of advantages/disadvantages compared to competitors, allowing potential buyers to see how the product stacks up without extensive research.\n",
            "  Thought 8: 7. **Quick-Fire FAQs**: Include a section with frequently asked questions that arise from the review. This could address common concerns or features that potential buyers typically want to know about, streamlining the decision-making process.\n",
            "  Thought 9: 8. **Highlighting Longevity**: Discuss the product's long-term performance based on user feedback. This can involve summarizing experiences over time, such as durability and reliability, which is especially important for potential buyers considering investment in more expensive items.\n",
            "  Thought 10: 9. **Emotion-Driven Summaries**: Capture the emotional tone of the review by highlighting how the product made users feel. For instance, phrases like \"transformed my daily routine\" or \"disappointed after high expectations\" can create a resonance that raw data might miss.\n",
            "  Thought 11: 10. **Call to Action**: Conclude the summary with a clear call to action that guides potential buyers on what to do next, whether it's to buy the product, check for more reviews, or consider alternatives. This can help direct their thought process and encourage engagement.\n",
            "  Thought 12: By utilizing these alternative approaches, product reviews can become more informative, engaging, and tailored to the needs and preferences of potential buyers, ultimately aiding them in making more confident purchasing decisions.\n",
            "\n",
            "Thoughts after step 2:\n",
            "  Thought 1: Certainly! When summarizing a product review, it's essential to adopt strategies that not only convey the essential information but also resonate with potential buyers. Here are several alternative approaches to enhance clarity and engagement:\n",
            "  Thought 2: 1. **Thematic Summaries**:\n",
            "  Thought 3: - **Categorical Breakdown**: Organize the summary into key themes such as performance, durability, aesthetics, and value for money. This allows readers to quickly find the information most relevant to their needs.\n",
            "  Thought 4: - **Pros and Cons List**: Create a concise pros and cons list that highlights the strengths and weaknesses of the product, making it easy for buyers to weigh their options.\n",
            "  Thought 5: 2. **Visual Elements**:\n",
            "  Thought 6: - **Infographics**: Use infographics to visually represent the main points of the review. This could include ratings, comparisons, and key features, appealing to visual learners and making the information more digestible.\n",
            "  Thought 7: - **Star Ratings**: Incorporate a star rating system that summarizes the reviewer's opinion at a glance, providing an immediate impression of the product's quality.\n",
            "  Thought 8: 3. **User Scenarios**:\n",
            "  Thought 9: - **Use Cases**: Present hypothetical scenarios or user personas to illustrate how the product can fit into different lifestyles or needs. This approach helps potential buyers envision the product's practical application.\n",
            "  Thought 10: - **Real-life Testimonials**: Include snippets of direct quotes from the review that highlight specific experiences, adding a personal touch and authenticity to the summary.\n",
            "  Thought 11: 4. **Comparative Analysis**:\n",
            "  Thought 12: - **Competitor Comparisons**: Summarize how the product stacks up against similar items in the market. Highlight unique features or advantages that may persuade buyers to choose this product over others.\n",
            "  Thought 13: - **Price vs. Performance**: Analyze the product's value proposition by comparing its price to its performance metrics. This can help buyers make informed decisions based on budget constraints.\n",
            "  Thought 14: 5. **Engaging Storytelling**:\n",
            "  Thought 15: - **Narrative Summary**: Use storytelling techniques to weave a narrative around the product's use, including challenges faced and how the product resolved them. This approach can create an emotional connection with potential buyers.\n",
            "  Thought 16: - **Customer Journey**: Outline the customer's journey from purchase to use, illustrating the product's impact on their daily life. This narrative can effectively showcase the benefits in a relatable manner.\n",
            "  Thought 17: 6. **Highlighting Key Features**:\n",
            "  Thought 18: - **Feature Spotlight**: Focus on one or two standout features of the product that received the most positive feedback in the review. This targeted approach can draw attention to what makes the product exceptional.\n",
            "  Thought 19: - **Feature Comparison Table**: Create a table that compares key features of the product to those of its competitors, allowing for quick reference and easy decision-making.\n",
            "  Thought 20: 7. **Interactive Summaries**:\n",
            "  Thought 21: - **FAQ Format**: Present the summary in a frequently asked questions format, addressing common queries potential buyers might have. This not only engages readers but also provides them with the information they seek.\n",
            "  Thought 22: - **Hyperlinks to Detailed Reviews**: Include hyperlinks to the full review or related content for readers who want to dive deeper. This encourages engagement and provides additional resources for informed decision-making.\n",
            "  Thought 23: 8. **Emphasizing Key Takeaways**:\n",
            "  Thought 24: - **Top 3 Takeaways**: Summarize the review in three key takeaways that encapsulate the most important insights. This brevity can appeal to busy shoppers looking for quick information.\n",
            "  Thought 25: - **Call to Action**: End the summary with a strong call to action that encourages readers to make a purchase, emphasizing any limited-time offers or unique selling propositions.\n",
            "  Thought 26: By implementing these alternative approaches to summarizing product reviews, you can enhance clarity, engage potential buyers effectively, and present product information in a way that resonates with diverse audiences.\n",
            "  Thought 27: Certainly! Expanding on the idea of thematic breakdown, here are several alternative approaches for summarizing a product review that could enhance clarity and user engagement:\n",
            "  Thought 28: 2. **Pros and Cons List**: Create a clear and concise list that highlights the strengths and weaknesses of the product. This format allows readers to quickly gauge the overall sentiment of the review and make informed decisions based on the most important factors.\n",
            "  Thought 29: 3. **Rating Highlights**: Use a star rating or numerical score system for different aspects of the product, such as quality, performance, and customer service. Accompany each rating with a brief explanation to provide context. This visual representation can quickly convey the reviewer's overall impression.\n",
            "  Thought 30: 4. **Timeline of Experience**: Present the review in a chronological format that outlines the user’s experience from purchase to usage. This approach helps illustrate how the product performs over time and can provide insights into aspects like durability and customer service responsiveness.\n",
            "  Thought 31: 5. **User Persona Approach**: Tailor the summary to specific user personas. For instance, categorize the review based on who might benefit most from the product (e.g., \"Best for Students,\" \"Ideal for Professionals,\" or \"Not Recommended for Casual Users\"). This helps potential buyers identify if the product fits their needs.\n",
            "  Thought 32: 6. **Visual Infographic**: Transform key points of the review into an infographic that combines text with visuals such as icons, charts, and images. This visually engaging format can summarize key themes, ratings, and user experiences in a way that's easy to digest.\n",
            "  Thought 33: 7. **Quote Highlights**: Extract impactful quotes or phrases from the review to capture the reviewer’s sentiments. Pair these quotes with brief commentary to provide context. This method can make the summary feel more personal and relatable.\n",
            "  Thought 34: 8. **Comparative Analysis**: Compare the product to similar items in the market, highlighting where it excels or falls short. This approach can help readers understand the product's position relative to its competitors and make more informed choices.\n",
            "  Thought 35: 9. **FAQ Format**: Organize the summary in a question-and-answer format that addresses common concerns or queries potential buyers might have. For example, \"Is the product easy to use?\" or \"How does it perform in low-light conditions?\" This can help directly address reader interests.\n",
            "  Thought 36: 10. **Sentiment Analysis Snapshot**: Use sentiment analysis tools to generate a visual representation of the review's emotional tone (positive, negative, neutral). Presenting this data in a graphical format can quickly convey the overall sentiment of the review.\n",
            "  Thought 37: 11. **Highlight Recommendations**: Conclude the summary with a recommendation statement that encapsulates the reviewer’s overall opinion. This can be phrased as a specific recommendation (e.g., \"Highly recommended for tech enthusiasts\") or a disclaimer (e.g., \"Not suitable for budget-conscious buyers\").\n",
            "  Thought 38: 12. **Interactive Summary**: Develop an interactive digital summary where users can click on different aspects (e.g., design, usability, etc.) to expand and read more detailed insights. This approach allows users to engage with the content based on their interests.\n",
            "  Thought 39: These alternative approaches can provide diverse ways to summarize product reviews, catering to different user preferences and enhancing the overall user experience when making purchasing decisions.\n",
            "  Thought 40: Certainly! Here are several alternative approaches to summarizing a product review that build upon the star rating system while introducing new elements and methods for conveying information effectively:\n",
            "  Thought 41: 1. **Color-Coded Rating System**: Instead of just stars, use colors to represent different performance levels. For example, a green rating might represent excellent performance, yellow for average, and red for poor. This can provide an immediate visual cue to potential buyers regarding the overall quality and reliability of the product.\n",
            "  Thought 42: 2. **Weighted Rating System**: Assign different weights to various aspects of the product based on their importance to the target audience. For example, if performance is the most critical factor for a tech gadget, it could carry a higher weight in the overall rating compared to aesthetics. This nuanced approach allows for a more tailored summary that reflects user priorities.\n",
            "  Thought 43: 3. **Pros and Cons List**: Accompany the star ratings with a concise list of pros and cons. This straightforward format helps potential buyers quickly understand the strengths and weaknesses of the product without having to read through lengthy reviews.\n",
            "  Thought 44: 4. **Comparison Chart**: Create a comparison chart that places the product alongside similar items in the market. This chart can summarize ratings, key features, and prices, helping consumers make informed decisions based on comparative data.\n",
            "  Thought 45: 5. **Emoji Rating System**: Incorporate emojis to represent different aspects of the product. For instance, a thumbs up for performance, a clock for ease of use, and a shield for durability. This playful approach can make the review more engaging and easily digestible, especially for younger audiences.\n",
            "  Thought 46: 6. **Sentiment Analysis Summary**: Utilize natural language processing to analyze the review's text and generate a sentiment score. This score could be displayed alongside the star ratings to reflect the overall emotional tone of the review, helping consumers gauge the reviewer’s enthusiasm or disappointment.\n",
            "  Thought 47: 7. **User Testimonials Snippets**: Integrate direct quotes or snippets from user testimonials that highlight key experiences with the product. These can provide context to the star ratings and help potential buyers relate to the experiences of others.\n",
            "  Thought 48: 8. **Highlight Feature Ratings**: Instead of a single star rating, provide separate ratings for various features or aspects such as design, performance, customer support, and value for money. This detailed breakdown allows potential buyers to focus on the features that matter most to them.\n",
            "  Thought 49: 9. **Infographic Summary**: Design an infographic that visually represents the product review. This can include star ratings, pros and cons, key features, and user sentiment in a visually appealing format that captures attention and conveys information quickly.\n",
            "  Thought 50: 10. **Video Summary**: Create short video summaries that highlight the key points of the review. This format can include visuals of the product in use, ratings, and user opinions, making it an engaging alternative for consumers who prefer video content over text.\n",
            "  Thought 51: 11. **Interactive Summary**: Develop an interactive summary where users can click on various aspects of the product to see detailed ratings and comments. This dynamic format encourages exploration and allows users to focus on what interests them most.\n",
            "  Thought 52: 12. **Expert vs. User Ratings**: Differentiate between expert reviews and user reviews by presenting both ratings. This can help consumers see how professional evaluations compare to general user experiences, offering a more comprehensive view of the product's performance.\n",
            "  Thought 53: By combining these alternative approaches with the star rating system, product reviews can become more informative, engaging, and user-friendly, ultimately aiding consumers in making better purchasing decisions.\n",
            "  Thought 54: Certainly! Here are several alternative approaches for summarizing a product review, building on the idea of visual summaries:\n",
            "  Thought 55: 1. **Interactive Dashboards**: Create an interactive online dashboard where users can hover over different elements to get more detailed information. For example, clicking on a feature in a graph could reveal user feedback, expert opinions, and ratings specific to that feature. This allows users to explore the review at their own pace and focus on the aspects that matter most to them.\n",
            "  Thought 56: 2. **Video Summaries**: Produce short video summaries that highlight key aspects of the review. This could involve a narrator summarizing the main points while showing relevant footage of the product in use or animations that depict user satisfaction levels and feature comparisons. The combination of visual and auditory elements can enhance comprehension and retention.\n",
            "  Thought 57: 3. **Storyboards or Comic Strips**: Use a storyboard or comic strip format to illustrate the user experience with the product. This narrative approach can make the review more engaging, depicting scenarios where the product excels or falls short, thus providing a relatable context for potential buyers.\n",
            "  Thought 58: 4. **Word Clouds**: Generate a word cloud that visually represents the most frequently mentioned terms from the review. Larger words could represent more common themes or issues, while smaller ones might indicate less frequent mentions. This approach allows users to quickly grasp the overall sentiment and key points.\n",
            "  Thought 59: 5. **Heat Maps**: Use heat maps to indicate user ratings across various features of the product. For instance, different colors could represent satisfaction levels for specific attributes, making it easy to spot strengths and weaknesses at a glance.\n",
            "  Thought 60: 6. **Timeline Visualizations**: Create a timeline that outlines the product's performance over time based on user reviews. This could show how satisfaction levels have changed with updates or improvements, providing insight into the product's evolution and reliability.\n",
            "  Thought 61: 7. **Comparison Infographics**: Design infographics that directly compare the product to its competitors based on key factors derived from user reviews. This could include features, prices, user satisfaction ratings, and more, allowing potential buyers to see how the product stacks up against others in the market.\n",
            "  Thought 62: 8. **Testimonial Highlights**: Curate a selection of direct quotes from users that capture the essence of the review. These testimonials can be visually displayed in an appealing format, perhaps alongside images of the product or user interactions to create a relatable context.\n",
            "  Thought 63: 9. **Pros and Cons List with Ratings**: Instead of a traditional text-based list, present pros and cons using visual symbols like thumbs up/down, stars, or checkmarks. Each point could be accompanied by visual indicators of how many users agree or disagree, providing a quick snapshot of user sentiment.\n",
            "  Thought 64: 10. **Gamified Summaries**: Develop a gamified approach where users can rate different aspects of the review or play a quiz to test their knowledge about the product based on the review content. This interactive format can engage users more deeply and encourage them to absorb the information.\n",
            "  Thought 65: By employing these alternative approaches, product reviews can be made more accessible, engaging, and informative for potential customers, catering to different learning styles and preferences.\n",
            "  Thought 66: Certainly! Expanding on the idea of using user testimonials, here are several alternative approaches for summarizing a product review that can enhance its relatability and effectiveness:\n",
            "  Thought 67: 1. **Thematic Grouping of Feedback**: Organize user experiences into key themes or categories, such as \"Ease of Use,\" \"Durability,\" or \"Customer Service,\" and summarize insights from multiple users within each theme. This method provides a structured overview that helps potential buyers quickly identify the strengths and weaknesses of the product based on collective feedback.\n",
            "  Thought 68: 2. **Visual Summaries**: Create infographics or visual representations that encapsulate user reviews, using charts or icons to depict ratings, common praises, or complaints. This can make the information more digestible and engaging, allowing consumers to grasp overall sentiment at a glance.\n",
            "  Thought 69: 3. **Highlighting Contrasting Opinions**: Present a balanced view by summarizing both positive and negative reviews. This approach gives potential buyers a more nuanced understanding of the product, showing that the review is honest and not overly biased. Users might appreciate the transparency and feel more empowered to make a decision.\n",
            "  Thought 70: 4. **Narrative Snapshots**: Curate short narratives or stories from users that illustrate their experiences with the product. This storytelling technique can be particularly effective in conveying the emotional impact of the product, making it easier for potential buyers to envision themselves using it in real-life scenarios.\n",
            "  Thought 71: 5. **Comparison with Alternatives**: Summarize user reviews by comparing the product with similar items in the market. Highlight what users liked more about the product in question versus its competitors. This contextual approach can help consumers understand the unique selling points and make an informed choice.\n",
            "  Thought 72: 6. **Star Ratings with Contextual Comments**: Use a star rating system alongside brief contextual comments from users. For example, a product might receive a 4-star rating, accompanied by a summary of what users loved and what could be improved. This dual approach combines quantitative and qualitative feedback effectively.\n",
            "  Thought 73: 7. **FAQ Format**: Transform user reviews into a Frequently Asked Questions format, addressing common queries or concerns based on user feedback. This method can preemptively answer potential buyers' questions and provide clear, concise information drawn from actual user experiences.\n",
            "  Thought 74: 8. **Video Highlights**: Develop short video clips featuring user testimonials or reviews. This multimedia approach allows potential buyers to hear and see real users discussing their experiences, which can be more engaging than written summaries.\n",
            "  Thought 75: 9. **Expert Analysis**: Introduce an expert or influencer who can interpret user testimonials and provide additional insights. This can lend credibility and context to the reviews, helping potential buyers understand the product's value from a knowledgeable perspective.\n",
            "  Thought 76: 10. **Time-Lapse Feedback**: Include a summary of user feedback over time, showing how opinions may have evolved as the product has been used longer. This approach can be particularly revealing for products that require a period of adaptation or have improved through updates.\n",
            "  Thought 77: By employing these alternative approaches, product review summaries can become more engaging, informative, and useful for potential buyers, ultimately enhancing their purchasing decisions.\n",
            "  Thought 78: Certainly! Expanding on the concept of scenario-based summaries can lead to a variety of innovative approaches for summarizing product reviews. Here are several alternative strategies that could enhance the effectiveness and relevance of the summaries:\n",
            "  Thought 79: 1. **Use Case Mapping**:\n",
            "  Thought 80: - Develop a visual or interactive map that connects specific features of the product to various use cases. For instance, if reviewing a laptop, map its processing speed to gaming needs, battery life to travel scenarios, and design to business presentations. This could help buyers quickly identify if the product meets their specific requirements.\n",
            "  Thought 81: 2. **Persona Profiles**:\n",
            "  Thought 82: - Create detailed persona profiles that represent different types of users. Each profile would include demographic information, lifestyle habits, and specific needs. Summaries could then be tailored to resonate with these personas, allowing potential buyers to see themselves in the scenarios presented.\n",
            "  Thought 83: 3. **Problem-Solution Framework**:\n",
            "  Thought 84: - Organize summaries around common problems that users face and how the product serves as a solution. For example, a kitchen appliance could be summarized in terms of \"Time-Saving for Busy Parents\" or \"Effortless Cooking for Novices,\" providing a clear rationale for potential buyers.\n",
            "  Thought 85: 4. **Lifestyle Integration**:\n",
            "  Thought 86: - Frame summaries based on how the product integrates into various lifestyles. For instance, a fitness tracker could be summarized in the context of \"Perfect for the Casual Jogger,\" \"Essential for the Marathon Runner,\" or \"Helpful for the Busy Professional.\" This approach highlights how the product can enhance daily routines.\n",
            "  Thought 87: 5. **Seasonal or Situational Contexts**:\n",
            "  Thought 88: - Contextualize summaries based on seasonal events or situational uses. For example, a review for a tent could be framed around \"Best for Summer Camping Trips,\" \"Ideal for Family Picnics,\" or \"Great for Winter Retreats,\" catering to buyers looking for seasonal suitability.\n",
            "  Thought 89: 6. **Feature Prioritization**:\n",
            "  Thought 90: - Summarize reviews by prioritizing features based on specific scenarios. For instance, in a smartphone review, summarize key aspects such as \"Camera Quality for Travelers,\" \"Battery Life for Heavy Users,\" or \"Storage for Gamers.\" This helps users quickly identify critical attributes relevant to their needs.\n",
            "  Thought 91: 7. **Feedback from Real Users**:\n",
            "  Thought 92: - Incorporate quotes or testimonials from real users who fit various scenarios. These snippets can provide personal insights that resonate with potential buyers, making the summaries more relatable and trustworthy.\n",
            "  Thought 93: 8. **Comparative Scenarios**:\n",
            "  Thought 94: - Provide comparative summaries that outline how the product performs in different scenarios against competing products. This could include a section like \"How it Stands Up for Students vs. Professionals,\" giving potential buyers a clearer sense of choice.\n",
            "  Thought 95: 9. **User Journey Mapping**:\n",
            "  Thought 96: - Chart out the user journey for different scenarios, showcasing how the product is used from purchase to daily usage. This approach helps potential buyers visualize the entire experience and understand the product's value throughout its lifecycle.\n",
            "  Thought 97: 10. **Social Proof and Community Insights**:\n",
            "  Thought 98: - Highlight community-driven insights or trends based on user reviews categorized by scenarios. For instance, summarize how different user groups (gamers, artists, students) are utilizing the product in unique ways, fostering a sense of community and shared experience.\n",
            "  Thought 99: By employing these alternative approaches to summarizing product reviews, businesses can create more targeted, engaging, and actionable insights that resonate with a diverse range of potential buyers.\n",
            "  Thought 100: Certainly! Here are several alternative approaches for summarizing a product review, expanding on the idea of comparison with alternatives:\n",
            "  Thought 101: ### 1. **Feature Matrix**\n",
            "  Thought 102: - Create a visual feature matrix that showcases key features of the product alongside those of its competitors. This side-by-side layout allows readers to quickly identify differences and similarities, facilitating a straightforward comparison at a glance.\n",
            "  Thought 103: ### 2. **Pros and Cons Breakdown**\n",
            "  Thought 104: - Present a list of pros and cons for the product compared to its competitors. This could be structured in a table format, where each product is listed with its respective advantages and disadvantages, helping consumers weigh their options effectively.\n",
            "  Thought 105: ### 3. **User Experience Ratings**\n",
            "  Thought 106: - Include a rating system for user experience across multiple products. Factors such as usability, customer support, durability, and design can be rated on a scale (e.g., 1 to 5 stars). This quantifiable approach makes it easier for consumers to assess value quickly.\n",
            "  Thought 107: ### 4. **Expert Opinions**\n",
            "  Thought 108: - Summarize insights from industry experts or influencers comparing the product with its competitors. Including quotes or brief opinions can provide an authoritative perspective, enhancing credibility in the review.\n",
            "  Thought 109: ### 5. **Use Case Scenarios**\n",
            "  Thought 110: - Illustrate various use case scenarios where the product might outperform its competitors. For example, outline specific situations or user needs (e.g., travel, home use, professional settings) and explain how the product excels in those contexts compared to alternatives.\n",
            "  Thought 111: ### 6. **Consumer Testimonials**\n",
            "  Thought 112: - Collect and summarize testimonials from users who have tried both the product and its competitors. Highlighting real-life experiences can often resonate more with potential buyers and provide relatable comparisons.\n",
            "  Thought 113: ### 7. **Price vs. Performance Analysis**\n",
            "  Thought 114: - Offer a comparative analysis focusing on price versus performance. Discuss how the product’s pricing aligns with the value it delivers compared to similar products, helping consumers make informed financial decisions.\n",
            "  Thought 115: ### 8. **Innovative Features Highlight**\n",
            "  Thought 116: - Focus on unique or innovative features that set the product apart from the competition. A detailed description of these features can help potential buyers understand the product’s value proposition without needing to research extensively.\n",
            "  Thought 117: ### 9. **Market Positioning**\n",
            "  Thought 118: - Provide context on how the product fits within the broader market landscape. Discuss market trends, target demographics, and overall brand reputation in relation to competitors, giving consumers a holistic view of their options.\n",
            "  Thought 119: ### 10. **Visual Comparisons**\n",
            "  Thought 120: - Utilize infographics or charts that visually represent comparison data, such as feature availability, user satisfaction ratings, or performance metrics. Visual content can often convey information more effectively than text alone.\n",
            "  Thought 121: ### 11. **Time-to-Value Analysis**\n",
            "  Thought 122: - Analyze how quickly users can realize value from the product compared to its competitors. This approach can be particularly useful for products that require setup or learning curves, demonstrating the ease of use or efficiency of the product.\n",
            "  Thought 123: ### 12. **Long-Term Value Assessment**\n",
            "  Thought 124: - Discuss the long-term value of the product in comparison to alternatives, considering aspects like durability, warranty, and availability of replacement parts or support. This can aid consumers in making decisions based on longevity and cost-effectiveness over time.\n",
            "  Thought 125: By employing these alternative approaches, product reviews can offer a richer, more nuanced comparison that caters to various consumer preferences and decision-making styles, ultimately enhancing the buying experience.\n",
            "  Thought 126: Certainly! Here are several alternative approaches for summarizing a product review that complement the idea of Quick-Fire FAQs:\n",
            "  Thought 127: 1. **Pros and Cons List**: Create a concise table or bullet-point list that highlights the main advantages and disadvantages of the product. This allows readers to quickly grasp the overall sentiment of the review and make informed decisions based on their priorities.\n",
            "  Thought 128: 2. **Rating Breakdown**: Use a star rating system or numerical scores to evaluate different aspects of the product (e.g., performance, design, value for money, customer service). Accompany each rating with a brief explanation to provide context.\n",
            "  Thought 129: 3. **Highlight Reel**: Summarize the review with brief, impactful quotes or key phrases that capture the essence of the reviewer's experience. This could be presented in a visually appealing format, such as pull quotes or graphics.\n",
            "  Thought 130: 4. **Comparison Chart**: Create a visual comparison between the reviewed product and similar products in the category. This could include features, prices, and overall ratings, helping potential buyers see how the product stacks up against its competitors.\n",
            "  Thought 131: 5. **User Experience Stories**: Incorporate anecdotal snippets from actual users to illustrate the product's performance in real-life scenarios. This can add a relatable touch and provide context around the review.\n",
            "  Thought 132: 6. **Visual Summary**: Use infographics or visual aids to summarize key points from the review. This can include icons to represent features, benefits, and drawbacks, making the information easily digestible at a glance.\n",
            "  Thought 133: 7. **Key Takeaways Section**: Offer a brief section at the end of the review that encapsulates the most important points, tailored for readers who may not have time to read the entire review. This could include the main benefits, target audience, and whether the reviewer recommends the product.\n",
            "  Thought 134: 8. **Expert Opinions**: Include insights or quotes from industry experts or influencers who have experience with the product. This can lend credibility to the review and provide additional perspectives.\n",
            "  Thought 135: 9. **Contextual Recommendations**: Suggest specific user scenarios or types of consumers who would benefit the most from the product. This can help potential buyers relate to the review and see if it aligns with their own needs.\n",
            "  Thought 136: 10. **Interactive Q&A**: In addition to Quick-Fire FAQs, consider hosting a live Q&A session or forum where potential buyers can ask questions directly related to the review. This adds a dynamic element and allows for real-time engagement.\n",
            "  Thought 137: 11. **Social Proof Section**: Include snippets of ratings or reviews from other customers to provide a broader perspective on the product's reception. This can help potential buyers feel more confident in their decision based on collective experiences.\n",
            "  Thought 138: 12. **Video Summary**: Create a short video that summarizes the key points of the review. This can be particularly effective for visually-oriented consumers who prefer watching over reading.\n",
            "  Thought 139: By employing these approaches, you can create a multi-faceted summary of a product review that caters to different preferences and enhances the overall user experience for potential buyers.\n",
            "  Thought 140: To expand on the idea of highlighting longevity in product reviews, we can explore several alternative approaches for summarizing this aspect effectively. Here are some strategies:\n",
            "  Thought 141: 1. **User Journey Mapping**: Create a timeline or a visual representation of users' experiences with the product over various periods (e.g., 1 month, 6 months, 1 year, etc.). This can help illustrate how the product performs over time and highlight any changes in user satisfaction or issues that arise after prolonged use.\n",
            "  Thought 142: 2. **Comparative Analysis**: Compare the longevity of the product with similar items in the same category. Summarize user feedback on durability and reliability, emphasizing how this product stands up to its competitors over time. This can provide context for potential buyers regarding the value of their investment.\n",
            "  Thought 143: 3. **Common Longevity Themes**: Identify common themes in user reviews relating to longevity. For instance, categorize feedback into areas such as wear and tear, maintenance requirements, and performance consistency. Summarizing feedback in these categories can provide a clearer picture of what to expect in the long run.\n",
            "  Thought 144: 4. **Expert Insights**: Incorporate insights from industry experts or product testers who have evaluated the product's long-term performance. Summarizing expert opinions alongside user feedback can add credibility and depth to the discussion of longevity.\n",
            "  Thought 145: 5. **Durability Ratings**: Introduce a rating system that quantifies the product's longevity based on user reviews. This could be a star rating or a percentage score derived from factors like material quality, user maintenance experiences, and reported issues. This numerical summary can make it easier for potential buyers to assess longevity at a glance.\n",
            "  Thought 146: 6. **Case Studies**: Present individual case studies or testimonials from long-term users who have extensively used the product. Highlight their stories, including both positive and negative experiences, to illustrate the product's performance over time and provide relatable insights for potential buyers.\n",
            "  Thought 147: 7. **Failure Rates and Issues**: Summarize data on common failure points or issues reported by long-term users. This could include statistics on how many users experienced problems after a certain period, providing a more detailed understanding of potential risks associated with longevity.\n",
            "  Thought 148: 8. **Maintenance and Care Recommendations**: Discuss how proper maintenance can influence the product's longevity. Summarizing user feedback on care practices can help potential buyers understand how to maximize the lifespan of their investment.\n",
            "  Thought 149: 9. **Longevity in Different Environments**: Explore how the product performs in various conditions or environments. Summarizing feedback from users in diverse settings (e.g., extreme weather, heavy usage) can provide insights into how longevity may vary based on usage scenarios.\n",
            "  Thought 150: 10. **Visual and Multimedia Summaries**: Utilize infographics, videos, or slideshows that showcase user experiences over time. Visual content can effectively communicate longevity in a more engaging manner, making it easier for potential buyers to grasp the product's long-term performance.\n",
            "  Thought 151: By employing these alternative approaches, product reviews can provide a more comprehensive and nuanced summary of longevity, ultimately assisting potential buyers in making informed decisions about their investments.\n",
            "  Thought 152: Certainly! Here are several alternative approaches for summarizing a product review, building on the idea of emotion-driven summaries:\n",
            "  Thought 153: 1. **Sentiment Analysis Summaries**: Utilize natural language processing tools to analyze the sentiment of the review text. Summarize the overall sentiment (positive, negative, or neutral) alongside key emotional phrases. For example, you could present a summary that includes both the sentiment score and specific emotional descriptors like \"joy\" or \"frustration,\" giving potential buyers insight into the general feelings associated with the product.\n",
            "  Thought 154: 2. **Emotional Journey Mapping**: Create a visual or narrative representation of the reviewer's emotional journey throughout their experience with the product. This could involve key moments where emotions peaked, such as excitement at first use, disappointment during a malfunction, or satisfaction after resolving an issue. This method helps potential customers understand the highs and lows of the product experience.\n",
            "  Thought 155: 3. **Highlighting Key Emotional Triggers**: Identify specific emotional triggers mentioned in the review and summarize how these relate to the product's features. For instance, if a review mentions \"comfort,\" \"ease of use,\" or \"frustration,\" you could create a summary that connects these emotions directly to the product's attributes, helping consumers make informed decisions based on their emotional priorities.\n",
            "  Thought 156: 4. **User Testimonials with Emotional Impact**: Select powerful testimonials that capture the essence of user emotions and use them as standalone quotes in the summary. This approach personalizes the review process and allows potential customers to relate to the experiences of others, making the information more relatable and impactful.\n",
            "  Thought 157: 5. **Emotional Heatmap Summaries**: Create a heatmap that visually represents the emotional intensity of different aspects of the product based on user reviews. For instance, you could show areas like \"design\" or \"durability\" with varying colors or gradients to indicate how positively or negatively users felt about those aspects, providing a quick and intuitive way to gauge emotions.\n",
            "  Thought 158: 6. **Comparative Emotional Insights**: Summarize reviews by comparing the emotional responses elicited by different products in the same category. This could involve highlighting which products led to feelings of \"joy\" or \"satisfaction\" and which resulted in \"disappointment\" or \"frustration,\" thus allowing customers to choose products that align with their emotional expectations.\n",
            "  Thought 159: 7. **Narrative Summaries**: Craft a brief narrative that captures the emotional essence of the review. This could take the form of a short story that encapsulates the user’s journey with the product, highlighting key moments of joy, struggle, and resolution. This storytelling approach can make the summary more engaging and relatable.\n",
            "  Thought 160: 8. **Emotion-Based Categorization**: Organize reviews into categories based on emotional responses, such as \"happy customers,\" \"frustrated users,\" or \"mixed feelings.\" Summaries could then reflect the predominant emotions within each category, helping potential customers find products that align with their own emotional expectations.\n",
            "  Thought 161: 9. **Visual Emotion Indicators**: Incorporate visual elements like emojis or icons in the summary to represent emotional tones. For example, a smiley face for positive reviews or a frown for negative ones can quickly convey the emotional sentiment behind the reviews, making them more accessible at a glance.\n",
            "  Thought 162: 10. **Personal Reflection Summaries**: Encourage users to share how the product impacted their lives beyond just utility. Summaries could feature reflections on lifestyle changes, increased happiness, or even challenges faced, emphasizing the deeper emotional implications of using the product.\n",
            "  Thought 163: By employing these alternative approaches, product review summaries can become more nuanced and emotionally resonant, ultimately helping consumers make better-informed purchasing decisions based on their own emotional needs and expectations.\n",
            "  Thought 164: Certainly! Expanding on the idea of including a **Call to Action** in a product review summary can lead to several alternative approaches that enhance engagement and provide value to potential buyers. Here are some methods to consider:\n",
            "  Thought 165: 1. **Highlight Key Benefits**: Instead of a generic call to action, emphasize the specific benefits that the product offers. Use bullet points to list the top features or advantages that stand out in the review. This can lead potential buyers to appreciate the product’s value before deciding on a purchase.\n",
            "  Thought 166: 2. **Comparative Suggestion**: Encourage potential buyers to compare the product with similar items. A statement like, “If you’re considering this product, also check out XYZ for similar features at a different price point,” can help them make informed decisions.\n",
            "  Thought 167: 3. **Limited-Time Offers**: Create urgency by incorporating a time-sensitive call to action. For example, “Buy now to take advantage of our limited-time 20% discount!” This can motivate potential customers to act quickly rather than delaying their purchase.\n",
            "  Thought 168: 4. **Encourage User Interaction**: Invite readers to share their own experiences or opinions about the product in the comments. A phrase like, “Have you tried this product? Leave your thoughts below!” can foster a sense of community and engagement.\n",
            "  Thought 169: 5. **Provide Additional Resources**: Direct potential buyers to related content, such as detailed guides, tutorials, or videos that showcase the product in use. This could include, “For in-depth insights, check out our full review video” or “Download our buying guide to help you choose the right model.”\n",
            "  Thought 170: 6. **Offer a Personal Recommendation**: If applicable, include a personal touch by stating your own recommendation based on the review. For instance, “I personally recommend this product for anyone looking for a reliable solution to [specific need].”\n",
            "  Thought 171: 7. **Invite Feedback on the Review**: Encourage potential buyers to provide feedback on the review itself, asking if they found it helpful or if they have further questions. This can be framed as, “Did this summary help you? Let us know your thoughts!”\n",
            "  Thought 172: 8. **Social Proof Element**: Refer to the number of positive reviews or ratings the product has received to build credibility. For example, “Join the thousands of satisfied customers who love this product—click here to purchase!”\n",
            "  Thought 173: 9. **Interactive Polls or Quizzes**: Create an interactive element at the end of the summary, such as a poll or quiz that helps users determine if the product is right for them. This can be engaging and informative, leading to a tailored recommendation.\n",
            "  Thought 174: 10. **Referral Incentives**: If applicable, mention any referral programs where buyers can receive discounts or rewards for sharing the product with friends. A statement like, “Share this product with a friend and both of you can get 10% off!” can encourage social sharing.\n",
            "  Thought 175: By diversifying the approach to the call to action, reviewers can create a more engaging and informative experience that caters to various buyer motivations and preferences. This can ultimately lead to higher conversion rates and customer satisfaction.\n",
            "  Thought 176: Expanding on the original thought, there are numerous alternative approaches to summarizing product reviews that can enhance their effectiveness and appeal. Here are several strategies that can be employed:\n",
            "  Thought 177: 1. **Visual Summaries**:\n",
            "  Thought 178: - **Infographics**: Create visual representations of key review metrics (e.g., ratings, pros and cons) to make the information easier to digest at a glance.\n",
            "  Thought 179: - **Video Summaries**: Produce short videos that capture the essence of the reviews, featuring customer testimonials, product demonstrations, or comparisons with similar products.\n",
            "  Thought 180: 2. **Key Takeaways**:\n",
            "  Thought 181: - **Bullet Point Lists**: Summarize reviews into concise bullet points highlighting critical insights, such as top features, common complaints, and standout benefits.\n",
            "  Thought 182: - **Highlight Quotes**: Use direct quotes from reviewers to encapsulate opinions and sentiments, providing authenticity and relatability.\n",
            "  Thought 183: 3. **Sentiment Analysis**:\n",
            "  Thought 184: - **Emotional Tone**: Analyze the emotional tone of reviews (positive, negative, neutral) and present this information alongside a brief overview to give potential buyers a sense of overall satisfaction.\n",
            "  Thought 185: - **Sentiment Ratings**: Assign a sentiment score based on the reviews, allowing readers to quickly gauge the general feeling towards the product.\n",
            "  Thought 186: 4. **Comparative Analysis**:\n",
            "  Thought 187: - **Side-by-Side Comparisons**: Summarize reviews of the product in relation to its competitors, highlighting differences in performance, price, and user satisfaction.\n",
            "  Thought 188: - **Feature Ranking**: Rank features or attributes based on user feedback, providing potential buyers with a clear understanding of what to prioritize.\n",
            "  Thought 189: 5. **User Profiles**:\n",
            "  Thought 190: - **Segmented Summaries**: Tailor summaries to different user profiles or demographics (e.g., casual users, professionals, budget-conscious buyers) to match the specific needs and preferences of various audiences.\n",
            "  Thought 191: - **Use Cases**: Highlight specific use cases or scenarios based on reviewer experiences, helping consumers envision how the product fits into their lives.\n",
            "  Thought 192: 6. **Interactive Elements**:\n",
            "  Thought 193: - **Dynamic Dashboards**: Create interactive dashboards where users can filter reviews based on specific criteria, such as rating, date, or user demographics.\n",
            "  Thought 194: - **Rating Breakdown**: Provide an interactive breakdown of ratings, allowing users to explore the distribution of scores across different aspects of the product.\n",
            "  Thought 195: 7. **Storytelling Techniques**:\n",
            "  Thought 196: - **Customer Journeys**: Share narrative summaries that outline typical customer journeys, including initial expectations, experiences, and final outcomes.\n",
            "  Thought 197: - **Problem-Solution Format**: Present reviews in a problem-solution format, where common issues are addressed alongside how the product successfully resolves them.\n",
            "  Thought 198: 8. **Expert Insights**:\n",
            "  Thought 199: - **Expert Reviews**: Incorporate insights from industry experts or influencers to complement user reviews, providing a trusted perspective that can enhance credibility.\n",
            "  Thought 200: - **Comparison with Industry Standards**: Summarize how the product stacks up against industry benchmarks, enhancing buyers' understanding of its performance.\n",
            "  Thought 201: By leveraging these alternative approaches, product reviews can cater to a wider audience, enhance the decision-making process, and ultimately foster greater consumer confidence in purchasing decisions. Each approach aims to present the information in a way that resonates with the audience, whether through visual appeal, tailored content, or engaging narratives.\n",
            "\n",
            "Tree of Thoughts Simulation Result:\n",
            "Based on the original reviews and the various approaches for summarizing product feedback, here’s a comprehensive summary that encapsulates the overall sentiments, highlights key features, and provides a balanced view:\n",
            "\n",
            "---\n",
            "\n",
            "### Summary of Vacuum Cleaner Reviews\n",
            "\n",
            "**Overall Sentiment**: The reviews for this vacuum cleaner are highly polarized, with some users praising its performance and others expressing frustration with its shortcomings.\n",
            "\n",
            "#### **Pros:**\n",
            "- **Powerful Suction**: Many users noted exceptional suction power, particularly for pet hair and deep cleaning.\n",
            "- **Lightweight & Maneuverable**: Several reviews highlighted the vacuum’s lightweight design, making it easy to navigate around furniture and tight spaces.\n",
            "- **Long Battery Life**: Positive reviews emphasized impressive battery longevity, with many users able to clean large areas on a single charge.\n",
            "- **Versatile Attachments**: Users appreciated the variety of attachments, which facilitate cleaning different surfaces, including cars and stairs.\n",
            "\n",
            "#### **Cons:**\n",
            "- **Battery Issues**: A significant number of reviews indicated problems with battery life, with some users experiencing rapid depletion after minimal use.\n",
            "- **Weight Concerns**: A few reviewers found the vacuum heavy and awkward to handle, contrary to the claims of it being lightweight.\n",
            "- **Noise Level**: Some users reported that the vacuum is noisier than expected, which could be a concern for those with pets or small children.\n",
            "- **Durability Concerns**: A handful of reviews mentioned issues with attachments falling off and the overall build quality not meeting expectations.\n",
            "\n",
            "#### **User Experiences:**\n",
            "- **Positive Experiences**: Many users expressed enthusiasm about their purchase, describing the vacuum as a “game-changer” and highly recommending it to friends.\n",
            "- **Negative Experiences**: On the flip side, some users were deeply disappointed, citing it as a “complete waste of money” and expressing regret for their purchase.\n",
            "\n",
            "### **Key Takeaway**\n",
            "This vacuum cleaner has garnered both rave reviews and critical feedback. It is particularly well-suited for users seeking powerful suction and versatility, especially for pet owners. However, potential buyers should be cautious about battery reliability and consider user feedback regarding weight and noise levels before making a decision.\n",
            "\n",
            "**Call to Action**: If you’re in the market for a vacuum that excels in suction power and versatility, this product might be worth considering—but be sure to weigh the potential drawbacks highlighted by other users.\n",
            "\n",
            "--- \n",
            "\n",
            "This summary effectively highlights the strengths and weaknesses of the vacuum cleaner while giving potential buyers a clear understanding of what to expect based on user experiences.\n"
          ]
        }
      ],
      "source": [
        "# Real-world example: Summarize a product review using a simulated Tree of Thoughts.\n",
        "# Note: A true Tree of Thoughts implementation is more complex and would involve\n",
        "# exploring multiple reasoning paths and evaluating them. This is a simplified simulation.\n",
        "\n",
        "def tree_of_thoughts_prompting(initial_thought_prompt, expansion_prompt, evaluation_prompt, steps=2):\n",
        "    \"\"\"\n",
        "    Simulates a basic Tree of Thoughts approach.\n",
        "\n",
        "    Args:\n",
        "        initial_thought_prompt: The initial prompt to generate a starting thought.\n",
        "        expansion_prompt: Prompt to generate subsequent thoughts based on previous ones.\n",
        "        evaluation_prompt: Prompt to evaluate the generated thoughts.\n",
        "        steps: Number of expansion steps to simulate.\n",
        "\n",
        "    Returns:\n",
        "        The evaluated best thought or a summary of the process.\n",
        "    \"\"\"\n",
        "    try:\n",
        "        thoughts = [generate_response(initial_thought_prompt)]\n",
        "        print(\"Initial Thought:\", thoughts[0])\n",
        "\n",
        "        for step in range(steps):\n",
        "            new_thoughts = []\n",
        "            for thought in thoughts:\n",
        "                expansion_response = generate_response(f\"{expansion_prompt}\\n\\nPrevious thought: {thought}\")\n",
        "                # Simple split to simulate multiple thoughts\n",
        "                expanded_thoughts = [t.strip() for t in expansion_response.split('\\n') if t.strip()]\n",
        "                new_thoughts.extend(expanded_thoughts)\n",
        "            thoughts = new_thoughts\n",
        "            print(f\"\\nThoughts after step {step + 1}:\")\n",
        "            for i, thought in enumerate(thoughts):\n",
        "                print(f\"  Thought {i+1}: {thought}\")\n",
        "\n",
        "        # Simple evaluation: Ask the model to pick the best thought or summarize\n",
        "        evaluation_response = generate_response(f\"{evaluation_prompt}\\n\\nThoughts to evaluate:\\n\" + \"\\n\".join([f\"- {t}\" for t in thoughts]))\n",
        "\n",
        "        return evaluation_response\n",
        "\n",
        "    except Exception as e:\n",
        "        return f\"An error occurred: {e}\"\n",
        "\n",
        "# Example usage with the product review summarization (using positive review - too expensive for multiple)\n",
        "initial_thought_prompt = \"Generate an initial thought about summarizing a product review.\"\n",
        "expansion_prompt = \"Expand on the following thought to generate alternative approaches for summarizing a product review.\"\n",
        "evaluation_prompt = f\"Review the following thoughts for summarizing a product review and provide the best summary based on the original review: {REVIEWS_TEXT}\"\n",
        "\n",
        "\n",
        "tree_of_thoughts_response = tree_of_thoughts_prompting(initial_thought_prompt, expansion_prompt, evaluation_prompt, steps=2)\n",
        "print(\"\\nTree of Thoughts Simulation Result:\")\n",
        "print(tree_of_thoughts_response)"
      ]
    },
    {
      "cell_type": "markdown",
      "metadata": {
        "id": "5c83c571"
      },
      "source": [
        "## Meta Prompting"
      ]
    },
    {
      "cell_type": "markdown",
      "source": [
        "#### How it works\n",
        "1. It focuses on the structure rather than content\n",
        "2. It assigns Role to LLM to narrow down its action based on the given role.\n",
        "3. It set structures for Input and Ouput rather than freeform generation\n",
        "4. This structural enforcement improves the quality by capturing the only needed information."
      ],
      "metadata": {
        "id": "-k3n2uH-4aGp"
      }
    },
    {
      "cell_type": "code",
      "execution_count": 8,
      "metadata": {
        "id": "00d6a430",
        "colab": {
          "base_uri": "https://localhost:8080/"
        },
        "outputId": "7f9ec20b-2516-4c3e-fc99-5fb09011f1ad"
      },
      "outputs": [
        {
          "output_type": "stream",
          "name": "stdout",
          "text": [
            "Meta Prompting Response\n",
            "Emotion: Mixed  \n",
            "Summary: The reviews highlight significant positive aspects of the vacuum cleaner, such as its lightweight design, powerful suction, and useful attachments for various cleaning tasks. However, there are numerous complaints regarding poor battery life, heavy weight, and issues with noise and dustbin capacity. Some users experienced immediate problems, while others found it adequate for light cleaning but not suitable for larger spaces.  \n",
            "Recommendation: Consider this vacuum if you prioritize lightweight and powerful suction for quick cleanups, but be cautious about potential battery issues and overall durability.\n",
            "--------------------------------------------------\n"
          ]
        }
      ],
      "source": [
        "# Real-world example: Summarize product reviews using Meta Prompting.\n",
        "def test_meta_prompting(review):\n",
        "    meta_prompt = f\"\"\"\n",
        "You are an expert in summarizing product reviews. Your goal is to provide a concise and informative summary of the given review, focusing only on the key positive and negative aspects mentioned.\n",
        "\n",
        "Here is the product review:\n",
        "Review: {review}\n",
        "\n",
        "Provide the summary in the following format:\n",
        "Emotion: [Your emotion about the review]\n",
        "Summary: [Your concise summary here]\n",
        "Recommendation: [Your recommendation for the product]\n",
        "\"\"\"\n",
        "    response = generate_response(meta_prompt)\n",
        "    print(f\"Meta Prompting Response\")\n",
        "    print(response)\n",
        "    print(\"-\" * 50)\n",
        "\n",
        "# Test with all three review types\n",
        "test_meta_prompting(REVIEWS_TEXT)"
      ]
    }
  ],
  "metadata": {
    "colab": {
      "provenance": [],
      "collapsed_sections": [
        "7d706558"
      ],
      "include_colab_link": true
    },
    "kernelspec": {
      "display_name": ".venv",
      "language": "python",
      "name": "python3"
    },
    "language_info": {
      "name": "python",
      "version": "3.13.7"
    }
  },
  "nbformat": 4,
  "nbformat_minor": 0
}